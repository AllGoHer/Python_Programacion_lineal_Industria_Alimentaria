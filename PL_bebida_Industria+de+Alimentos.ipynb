{
 "cells": [
  {
   "cell_type": "markdown",
   "id": "87c989aa",
   "metadata": {},
   "source": [
    "### Ejercicio de Programación Lineal: Desarrollo de una Bebida Nutricional\n",
    "\n",
    "#### Contexto\n",
    "Una agencia de cooperación internacional te ha contratado para desarrollar una bebida nutricional destinada a complementar los desayunos escolares en zonas rurales. La bebida debe ser a base de soya, maíz y avena y debe ser nutricionalmente rica y económica.\n",
    "\n",
    "#### Objetivo\n",
    "Desarrollar un modelo de programación lineal para minimizar el costo de producción de la bebida nutricional, cumpliendo con los requerimientos nutricionales específicos.\n",
    "\n",
    "#### Variables de Decisión\n",
    "- Cantidad de soya, maíz y avena (en gramos) a utilizar en la bebida.\n",
    "\n",
    "#### Función Objetivo\n",
    "- Minimizar el costo total de los ingredientes: `costo = 0.035*soya + 0.025*maiz + 0.040*avena`.\n",
    "\n",
    "#### Restricciones\n",
    "1. **Peso Total por Porción**:\n",
    "   - La suma de los ingredientes debe ser igual a 50 gramos por porción.\n",
    "2. **Calorías**:\n",
    "   - La bebida debe tener al menos 150 kcal por porción. Se consideran 4.46 kcal/g para la soya, 0.95 kcal/g para el maíz y 3.74 kcal/g para la avena.\n",
    "3. **Proteínas**:\n",
    "   - La bebida debe tener al menos 10 g de proteínas por porción. Se consideran 0.360 g/g de proteína para la soya, 0.037 g/g para el maíz y 0.132 g/g para la avena.\n",
    "4. **Carbohidratos**:\n",
    "   - La bebida debe tener al menos 28 g de carbohidratos por porción. Se consideran 0.30 g/g de carbohidratos para la soya, 0.74 g/g para el maíz y 0.68 g/g para la avena.\n",
    "\n",
    "\n",
    "Este ejercicio desafía a los estudiantes a aplicar conceptos de programación lineal en un contexto real, destacando la importancia de la nutrición y la economía en la planificación alimentaria.\n"
   ]
  },
  {
   "cell_type": "code",
   "execution_count": null,
   "id": "7fd1d6af",
   "metadata": {},
   "outputs": [],
   "source": [
    "# Importamos Bibliotecas"
   ]
  },
  {
   "cell_type": "code",
   "execution_count": 220,
   "id": "1a563270",
   "metadata": {},
   "outputs": [],
   "source": [
    "from pyomo.environ import *"
   ]
  },
  {
   "cell_type": "code",
   "execution_count": 221,
   "id": "74497352",
   "metadata": {},
   "outputs": [],
   "source": [
    "# Crear un modelo"
   ]
  },
  {
   "cell_type": "code",
   "execution_count": 222,
   "id": "1fea71c3",
   "metadata": {},
   "outputs": [],
   "source": [
    "modelo = ConcreteModel()"
   ]
  },
  {
   "cell_type": "code",
   "execution_count": 223,
   "id": "af584d85",
   "metadata": {},
   "outputs": [],
   "source": [
    "# Variables de decisión"
   ]
  },
  {
   "cell_type": "code",
   "execution_count": 225,
   "id": "9660f218",
   "metadata": {},
   "outputs": [],
   "source": [
    "modelo.soya = Var(domain=NonNegativeReals)"
   ]
  },
  {
   "cell_type": "code",
   "execution_count": 226,
   "id": "7a63fdd0",
   "metadata": {},
   "outputs": [],
   "source": [
    "modelo.maiz = Var(domain=NonNegativeReals)"
   ]
  },
  {
   "cell_type": "code",
   "execution_count": 227,
   "id": "2c1fcd05",
   "metadata": {},
   "outputs": [],
   "source": [
    "modelo.avena = Var(domain=NonNegativeReals)"
   ]
  },
  {
   "cell_type": "code",
   "execution_count": 228,
   "id": "6b9a42d2",
   "metadata": {},
   "outputs": [],
   "source": [
    "# Función objetivo"
   ]
  },
  {
   "cell_type": "code",
   "execution_count": 229,
   "id": "42363f1d",
   "metadata": {},
   "outputs": [],
   "source": [
    "modelo.costo = Objective(expr=0.035*modelo.soya + 0.025*modelo.maiz + 0.040*modelo.avena, sense=minimize)"
   ]
  },
  {
   "cell_type": "code",
   "execution_count": null,
   "id": "3823bed8",
   "metadata": {},
   "outputs": [],
   "source": [
    "# Restricciones"
   ]
  },
  {
   "cell_type": "code",
   "execution_count": 230,
   "id": "908ccbd8",
   "metadata": {},
   "outputs": [],
   "source": [
    "modelo.peso_total = Constraint(expr=modelo.soya + modelo.maiz + modelo.avena ==50)"
   ]
  },
  {
   "cell_type": "code",
   "execution_count": 231,
   "id": "9efaf463",
   "metadata": {},
   "outputs": [],
   "source": [
    "modelo.calorias = Constraint(expr=(4.46*modelo.soya + 0.95*modelo.maiz + 3.74*modelo.avena) >= 150)"
   ]
  },
  {
   "cell_type": "code",
   "execution_count": 233,
   "id": "a41a651b",
   "metadata": {},
   "outputs": [],
   "source": [
    "modelo.proteinas = Constraint(expr=(0.360*modelo.soya + 0.037*modelo.maiz + 0.132*modelo.avena) >=10)"
   ]
  },
  {
   "cell_type": "code",
   "execution_count": 232,
   "id": "d1560df5",
   "metadata": {},
   "outputs": [],
   "source": [
    "modelo.carbohidratos = Constraint(expr=(0.30*modelo.soya + 0.74*modelo.maiz + 0.68*modelo.avena) >= 28)"
   ]
  },
  {
   "cell_type": "code",
   "execution_count": null,
   "id": "99ae815d",
   "metadata": {},
   "outputs": [],
   "source": [
    "# Resolver el problema usando GLPK"
   ]
  },
  {
   "cell_type": "code",
   "execution_count": 234,
   "id": "6daf4aad",
   "metadata": {},
   "outputs": [
    {
     "data": {
      "text/plain": [
       "{'Problem': [{'Name': 'unknown', 'Lower bound': 1.86752899197145, 'Upper bound': 1.86752899197145, 'Number of objectives': 1, 'Number of constraints': 5, 'Number of variables': 4, 'Number of nonzeros': 13, 'Sense': 'minimize'}], 'Solver': [{'Status': 'ok', 'Termination condition': 'optimal', 'Statistics': {'Branch and bound': {'Number of bounded subproblems': 0, 'Number of created subproblems': 0}}, 'Error rc': 0, 'Time': 0.2345898151397705}], 'Solution': [OrderedDict([('number of solutions', 0), ('number of solutions displayed', 0)])]}"
      ]
     },
     "execution_count": 234,
     "metadata": {},
     "output_type": "execute_result"
    }
   ],
   "source": [
    "SolverFactory('glpk').solve(modelo)"
   ]
  },
  {
   "cell_type": "code",
   "execution_count": null,
   "id": "54ba368b",
   "metadata": {},
   "outputs": [],
   "source": [
    "# Imprimir las soluciones"
   ]
  },
  {
   "cell_type": "code",
   "execution_count": 235,
   "id": "1919f5aa",
   "metadata": {},
   "outputs": [
    {
     "data": {
      "text/plain": [
       "16.3247100802854"
      ]
     },
     "execution_count": 235,
     "metadata": {},
     "output_type": "execute_result"
    }
   ],
   "source": [
    "modelo.soya()"
   ]
  },
  {
   "cell_type": "code",
   "execution_count": 236,
   "id": "dcdd37d2",
   "metadata": {},
   "outputs": [
    {
     "data": {
      "text/plain": [
       "3.38983050847453"
      ]
     },
     "execution_count": 236,
     "metadata": {},
     "output_type": "execute_result"
    }
   ],
   "source": [
    "modelo.maiz()"
   ]
  },
  {
   "cell_type": "code",
   "execution_count": 237,
   "id": "c7387f2a",
   "metadata": {},
   "outputs": [
    {
     "data": {
      "text/plain": [
       "30.28545941124"
      ]
     },
     "execution_count": 237,
     "metadata": {},
     "output_type": "execute_result"
    }
   ],
   "source": [
    "modelo.avena()"
   ]
  },
  {
   "cell_type": "code",
   "execution_count": 238,
   "id": "f77fa4a9",
   "metadata": {},
   "outputs": [
    {
     "data": {
      "text/plain": [
       "1.8675289919714524"
      ]
     },
     "execution_count": 238,
     "metadata": {},
     "output_type": "execute_result"
    }
   ],
   "source": [
    "modelo.costo()"
   ]
  },
  {
   "cell_type": "code",
   "execution_count": null,
   "id": "fe105dbc",
   "metadata": {},
   "outputs": [],
   "source": []
  }
 ],
 "metadata": {
  "kernelspec": {
   "display_name": "Python 3",
   "language": "python",
   "name": "python3"
  },
  "language_info": {
   "codemirror_mode": {
    "name": "ipython",
    "version": 3
   },
   "file_extension": ".py",
   "mimetype": "text/x-python",
   "name": "python",
   "nbconvert_exporter": "python",
   "pygments_lexer": "ipython3",
   "version": "3.8.8"
  }
 },
 "nbformat": 4,
 "nbformat_minor": 5
}
